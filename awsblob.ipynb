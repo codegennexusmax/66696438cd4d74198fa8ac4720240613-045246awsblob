{
 "cells": [
  {
   "cell_type": "markdown",
   "id": "8a052278",
   "metadata": {},
   "source": [
    "***GENERATED CODE FOR awsblob PIPELINE.***"
   ]
  },
  {
   "cell_type": "markdown",
   "id": "389d1199",
   "metadata": {},
   "source": [
    "***DON'T EDIT THIS CODE.***"
   ]
  },
  {
   "cell_type": "markdown",
   "id": "0f462653",
   "metadata": {},
   "source": [
    "***CONNECTOR FUNCTIONS TO READ DATA.***"
   ]
  },
  {
   "cell_type": "code",
   "execution_count": null,
   "id": "de2dd54d",
   "metadata": {},
   "outputs": [],
   "source": [
    "from utils import DataframeConversions\n",
    "import boto3\n",
    "import pandas as pd\n",
    "import datetime\n",
    "import json\n",
    "import logging\n",
    "import warnings\n",
    "warnings.filterwarnings('ignore')\n",
    "logging.basicConfig(format='%(levelname)s:%(message)s', level=logging.INFO)\n",
    "\n",
    "\n",
    "class s3Connector:\n",
    "\n",
    "    def fetch(self, inStages, inStagesData, stageId, spark, config):\n",
    "                if type(config) == str:\n",
    "            config = config.replace(\"'\", '\"')\n",
    "            config = json.loads(config)\n",
    "        region_name = config['region']\n",
    "\n",
    "        aws_access_key_id = config['accessKeyId']\n",
    "        aws_secret_access_key = config['secretAccessKey']\n",
    "        bucket = config['bucket']\n",
    "        key = config['url']\n",
    "\n",
    "        s3 = boto3.resource(\n",
    "            service_name='s3',\n",
    "            region_name=region_name,\n",
    "            aws_access_key_id=aws_access_key_id,\n",
    "            aws_secret_access_key=aws_secret_access_key\n",
    "        )\n",
    "        obj = s3.Bucket(bucket).Object(key).get()\n",
    "        pandaDF = pd.read_csv(obj['Body'])\n",
    "        return pandaDF\n",
    "\n",
    "    def put(self, inStages, inStagesData, stageId, spark, config):\n",
    "        configObj = json.loads(config)\n",
    "        region_name = configObj['region']\n",
    "        aws_access_key_id = configObj['accessKeyId']\n",
    "        aws_secret_access_key = configObj['secretAccessKey']\n",
    "        key = configObj['url']\n",
    "        bucket = configObj['bucket']\n",
    "        filename = configObj['filename']\n",
    "        df = inStagesData[inStages[0]]\n",
    "        df.to_csv(filename)\n",
    "        cwd = os.getcwd()\n",
    "        url = cwd + '\\\\' + filename\n",
    "\n",
    "        s3 = boto3.resource(\n",
    "            service_name='s3',\n",
    "            region_name=region_name,\n",
    "            aws_access_key_id=aws_access_key_id,\n",
    "            aws_secret_access_key=aws_secret_access_key\n",
    "        )\n",
    "        s3.Bucket(bucket).upload_file(Filename=url, Key=key)\n",
    "        os.remove(url)\n",
    "        return url\n",
    "\n"
   ]
  },
  {
   "cell_type": "markdown",
   "id": "531f6af3",
   "metadata": {},
   "source": [
    "***CONNECTOR FUNCTIONS TO WRITE DATA.***"
   ]
  },
  {
   "cell_type": "code",
   "execution_count": null,
   "id": "56dedf1a",
   "metadata": {},
   "outputs": [],
   "source": [
    "import datetime\n",
    "import requests\n",
    "import datetime\n",
    "import logging\n",
    "import warnings\n",
    "warnings.filterwarnings('ignore')\n",
    "logging.basicConfig(format='%(levelname)s:%(message)s', level=logging.INFO)\n",
    "\n",
    "\n",
    "class NumtraConnector:\n",
    "\n",
    "    def put(inStages, inStagesData, stageId, spark, config):\n",
    "        path = eval(config)['server_url']\n",
    "        baseType = eval(config)['baseType']\n",
    "        results_url = eval(config)['results_url']\n",
    "        server = eval(config)['server']\n",
    "        originalfile = eval(config)['orignalKey']\n",
    "        eval(config)['pathOnly']\n",
    "        filename = eval(config)['filename']\n",
    "        eval(config)['ser']\n",
    "        eval(config)['user']\n",
    "        eval(config)['password']\n",
    "        eval(config)['authSource']\n",
    "        eval(config)['user_id']\n",
    "        eval(config)['parent_id']\n",
    "        eval(config)['project_id']\n",
    "        time = str(int(datetime.datetime.now().timestamp()))\n",
    "\n",
    "        inStagesData[inStages[0]]\n",
    "\n",
    "        print(path)\n",
    "        print(baseType)\n",
    "        print(results_url)\n",
    "        print(server)\n",
    "        print(originalfile)\n",
    "        print(filename)\n",
    "\n",
    "        args = {\n",
    "            'url': path,\n",
    "            'baseType': baseType,\n",
    "            'originalfile': originalfile,\n",
    "            'filename': time + filename\n",
    "        }\n",
    "\n",
    "        response = requests.post(results_url, args)\n",
    "        return response\n"
   ]
  },
  {
   "cell_type": "markdown",
   "id": "bbc5fc87",
   "metadata": {},
   "source": [
    "***READING DATAFRAME***"
   ]
  },
  {
   "cell_type": "code",
   "execution_count": null,
   "id": "2d7a9c0e",
   "metadata": {},
   "outputs": [],
   "source": [
    "############## CREATE SPARK SESSION ############################ ENTER YOUR SPARK MASTER IP AND PORT TO CONNECT TO SERVER ################\n",
    "from pyspark.sql import SparkSession\n",
    "spark = SparkSession.builder.master('local[1]').getOrCreate()\n",
    "#%run awsblobHooks.ipynb\n",
    "try:\n",
    "\t#sourcePreExecutionHook()\n",
    "\n",
    "\tamazons = s3Connector.fetch(spark, \"{'bucketType': 'Public', 'url': 'https://s3.console.aws.amazon.com/s3/buckets/ryft-public-sample-data/', 'dbtype': 'amazonS3', 'is_header': 'Use Header Line', 'server_url': '/nexusMax/NexusMaxPlatform/uploads/platform/'}\")\n",
    "\t#sourcePostExecutionHook(amazons)\n",
    "\n",
    "except Exception as ex: \n",
    "\tlogging.error(ex)\n",
    "#spark.stop()\n"
   ]
  },
  {
   "cell_type": "markdown",
   "id": "ba2efcc8",
   "metadata": {},
   "source": [
    "***WRITING DATAFRAME***"
   ]
  },
  {
   "cell_type": "code",
   "execution_count": null,
   "id": "97a94ea6",
   "metadata": {},
   "outputs": [],
   "source": [
    "#%run awsblobHooks.ipynb\n",
    "try:\n",
    "\t#sinkPreExecutionHook()\n",
    "\n",
    "\tstoragetestoutput = NumtraConnector.fetch(spark, \"{'samplefile': None, 'samplecount': None, 'originalcount': None, 'orignalKey': None, 'pathOnly': '/storageTest', 'project_id': '66695a25cd4d74198fa8ac42', 'parent_id': '66695a25cd4d74198fa8ac42', 'original_schema': [], 'actual_schema': [], 'server': 'https://dnm.bfirst.ai:443', 'server_url': '/nexusMax/NexusMaxPlatform/uploads/platform/', 'delimiter': ',', 'file_type': 'Delimeted', 'filename': 'fromAws.csv', 'token': '', 'domain': '', 'is_header': 'Use Header Line', 'url': '/FileStore/platform/uploadedSourceFiles/part-00000-daa24d2d-5b89-4b43-82a5-e24aaa4ca557-c000.csv', 'results_url': 'http://dnm.bfirst.ai:44040/api/read/hdfs'}\")\n",
    "\n",
    "except Exception as ex: \n",
    "\tlogging.error(ex)\n"
   ]
  }
 ],
 "metadata": {},
 "nbformat": 4,
 "nbformat_minor": 5
}
